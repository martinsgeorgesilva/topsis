{
  "nbformat": 4,
  "nbformat_minor": 0,
  "metadata": {
    "colab": {
      "name": "topsis",
      "provenance": [],
      "toc_visible": true,
      "authorship_tag": "ABX9TyNsszyzA4ojYzwMOQ4udeZN",
      "include_colab_link": true
    },
    "kernelspec": {
      "name": "python3",
      "display_name": "Python 3"
    }
  },
  "cells": [
    {
      "cell_type": "markdown",
      "metadata": {
        "id": "view-in-github",
        "colab_type": "text"
      },
      "source": [
        "<a href=\"https://colab.research.google.com/github/martinsgeorgesilva/topsis/blob/main/topsis.ipynb\" target=\"_parent\"><img src=\"https://colab.research.google.com/assets/colab-badge.svg\" alt=\"Open In Colab\"/></a>"
      ]
    },
    {
      "cell_type": "markdown",
      "metadata": {
        "id": "Hz5mekhASQHu"
      },
      "source": [
        "Topsis disciplina: Processos Decisórios em Projetos de Transformação Digital e Indústria 4.0"
      ]
    },
    {
      "cell_type": "code",
      "metadata": {
        "colab": {
          "base_uri": "https://localhost:8080/",
          "height": 353
        },
        "id": "dIbrNyGYxoD9",
        "outputId": "7ab35f31-f5a5-44f6-b07e-256e88414890"
      },
      "source": [
        "from __future__ import print_function\n",
        "from __future__ import division\n",
        "from __future__ import absolute_import\n",
        "import numpy as np\n",
        "from matplotlib import pyplot as plt\n",
        "import seaborn as sns\n",
        "\n",
        "class TOPSIS:\n",
        "      def __init__ (self,*args):\n",
        "            nargs = len(args)\n",
        "            if nargs == 0:\n",
        "                  print ('ERROR: There is no parameter')\n",
        "                  raise ValueError\n",
        "            elif nargs == 1 or nargs == 2:\n",
        "                  fileName = args[0]\n",
        "                  try:\n",
        "                        data = np.loadtxt(fileName, dtype=float)\n",
        "                  except IOError:\n",
        "                        print ('ERROR: there is a problem with the file. Please, check the name.')\n",
        "                        raise IOError\n",
        "                  if nargs == 1:\n",
        "                        self.weights = np.asarray(data[0,:])\n",
        "                        if self.weights.sum() != 1.0:\n",
        "                              print ('ERROR: the sum of the weights must be 1')\n",
        "                              raise ValueError\n",
        "                        self.costBen = data[1,:].astype(int)\n",
        "                        self.matrixD = np.asarray(data[2:,:])\n",
        "                  else:\n",
        "                        self.matrixD = np.asarray(data)\n",
        "                        self.weights = np.asarray(args[0])\n",
        "                        \n",
        "                        if self.weights.sum() != 1.0:\n",
        "                              print ('ERROR: the sum of the weights must be 1')\n",
        "                              raise ValueError\n",
        "                        self.costBen = args[1]\n",
        "            elif nargs == 3:\n",
        "                  # In this case, the parameters' order are: matrixD, weights and costBen\n",
        "                  self.matrixD = np.asarray(args[0])\n",
        "                  self.weights = np.asarray(args[1])\n",
        "                  if self.weights.sum() != 1.0:\n",
        "                              print ('ERROR: the sum of the weights must be 1')\n",
        "                              raise ValueError\n",
        "                  self.costBen = args[2]\n",
        "            else:\n",
        "                  print ('ERROR: The number of the parameters is wrong')\n",
        "                  raise ValueError\n",
        "\n",
        "            size = self.matrixD.shape            \n",
        "            [self.nAlt, self.nCri] = size\n",
        "            self.normMatrixD = np.zeros(size, dtype=float)\n",
        "            self.idealPos = np.zeros (self.nCri, dtype=float)\n",
        "            self.idealNeg = np.zeros (self.nCri, dtype=float)\n",
        "            self.dPos = np.zeros (self.nAlt, dtype=float)\n",
        "            self.dNeg = np.zeros (self.nAlt, dtype=float)\n",
        "            self.rCloseness = np.zeros (self.nAlt, dtype=float)\n",
        "\n",
        "      def normalizeMatrix (self):\n",
        "            m = self.matrixD **2\n",
        "            m = np.sqrt(m.sum(axis=0))\n",
        "\n",
        "            for i in range(self.nAlt):\n",
        "                  for j in range(self.nCri):\n",
        "                        self.normMatrixD[i,j] = self.matrixD[i,j] / m[j]\n",
        "\n",
        "            self.matrixD = self.normMatrixD\n",
        "\n",
        "      def introWeights (self):\n",
        "            self.normMatrixD = self.matrixD * self.weights\n",
        "\n",
        "      def getIdealSolutions (self):\n",
        "            mx = self.normMatrixD.max(axis=0)\n",
        "            mi = self.normMatrixD.min(axis=0)\n",
        "            for j in range(self.nCri):\n",
        "                  if self.costBen[j] == 1:\n",
        "                        self.idealPos[j] =mi[j]\n",
        "                        self.idealNeg[j] = mx[j]\n",
        "                  elif self.costBen[j] == 0:\n",
        "                        self.idealPos[j] = mx[j]\n",
        "                        self.idealNeg[j] = mi[j]\n",
        "                  else:\n",
        "                        print ('ERROR: The values of the cost and benefit must be 1 or 0')\n",
        "                        raise ValueError\n",
        "\n",
        "      def distanceToIdeal (self):\n",
        "            for i in range(self.nAlt):\n",
        "                  for j in range(self.nCri):\n",
        "                        self.dPos[i] = self.dPos[i] + distance (self.normMatrixD[i,j], self.idealPos[j])\n",
        "                        self.dNeg[i] =self.dNeg[i] + distance (self.normMatrixD[i,j], self.idealNeg[j])\n",
        "\n",
        "                  self.dPos[i] = np.sqrt(self.dPos[i])\n",
        "                  self.dNeg[i] = np.sqrt(self.dNeg[i])\n",
        "\n",
        "      def relativeCloseness (self):\n",
        "            for i in range(self.nAlt):\n",
        "                  self.rCloseness[i] = self.dNeg[i] / (self.dPos[i] + self.dNeg[i])\n",
        "\n",
        "      # You need to pass as argument the name of the alternatives. If you wanna save the figure\n",
        "      # Just pass the file name in saveName var.\n",
        "      def plotRankBar (self, names, saveName=None):\n",
        "            sns.set_style(\"whitegrid\")\n",
        "            a = sns.barplot (names, self.rCloseness, palette=\"Blues_d\")\n",
        "            a.set_ylabel(\"Closeness Coefficient\")\n",
        "            plt.show()   \n",
        "            if saveName is not None:\n",
        "                fig = a.get_figure()\n",
        "                fig.savefig(saveName+'.png', format='png')\n",
        "\n",
        "############################## END CLASS ###########################################\n",
        "\n",
        "def distance (a,b):\n",
        "      return (a-b)**2\n",
        "\n",
        "\n",
        "A = TOPSIS ('/content/sample_data/decisionMatrix.txt')\n",
        "A.normalizeMatrix()\n",
        "A.introWeights()\n",
        "A.getIdealSolutions()\n",
        "A.distanceToIdeal()\n",
        "A.relativeCloseness()\n",
        "# Showing the results\n",
        "print (A.rCloseness)\n",
        "Alternatives = np.array (['Montabilidade','Ergonomia','Proj Veic','Proj Manufatura','Oficina destreza'])\n",
        "A.plotRankBar(Alternatives)\n",
        "\n",
        "\n",
        "# If you don't wanna use the file .txt, you can set the values \n",
        "# as lists or numpy arrays\n",
        "\n",
        "w = np.array([0.3, 0.05, 0.6, 0.05])\n",
        "cb = np.array([1, 0, 1, 0])\n",
        "matrix = np.array([\n",
        "                  [15, 6, 25000, 7],\n",
        "                  [12, 7, 35000, 7],\n",
        "                  [10, 9, 55000, 8]                  \n",
        "                  ])\n",
        "\n",
        "B = TOPSIS (matrix, w, cb)\n",
        "B.normalizeMatrix()\n",
        "B.introWeights()\n",
        "B.getIdealSolutions()\n",
        "B.distanceToIdeal()\n",
        "B.relativeCloseness()\n",
        "\n",
        "# Showing the results\n",
        "print (B.rCloseness)"
      ],
      "execution_count": 26,
      "outputs": [
        {
          "output_type": "stream",
          "text": [
            "[0.76659682 0.88367315 0.11286494 0.11286494 0.89286277]\n"
          ],
          "name": "stdout"
        },
        {
          "output_type": "stream",
          "text": [
            "/usr/local/lib/python3.6/dist-packages/seaborn/_decorators.py:43: FutureWarning: Pass the following variables as keyword args: x, y. From version 0.12, the only valid positional argument will be `data`, and passing other arguments without an explicit keyword will result in an error or misinterpretation.\n",
            "  FutureWarning\n"
          ],
          "name": "stderr"
        },
        {
          "output_type": "display_data",
          "data": {
            "image/png": "[encoded data removed]",
            "text/plain": [
              "<Figure size 432x288 with 1 Axes>"
            ]
          },
          "metadata": {
            "tags": []
          }
        },
        {
          "output_type": "stream",
          "text": [
            "[0.78562925 0.66099579 0.21437075]\n"
          ],
          "name": "stdout"
        }
      ]
    }
  ]
}